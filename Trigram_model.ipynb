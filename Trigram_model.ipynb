{
  "nbformat": 4,
  "nbformat_minor": 0,
  "metadata": {
    "colab": {
      "name": "Trigram_model.ipynb",
      "provenance": [],
      "authorship_tag": "ABX9TyPuWML8Re+HVVw6ilIxB4p6"
    },
    "kernelspec": {
      "name": "python3",
      "display_name": "Python 3"
    },
    "language_info": {
      "name": "python"
    }
  },
  "cells": [
    {
      "cell_type": "code",
      "execution_count": null,
      "metadata": {
        "id": "dyaOEXJjOsrE"
      },
      "outputs": [],
      "source": [
        "import nltk"
      ]
    },
    {
      "cell_type": "code",
      "source": [
        "#Trigram  Model\n",
        "from nltk.util import ngrams\n",
        "input='The dogs chasing the cat bark'\n",
        "N=3\n",
        "trigrams=ngrams(input.split(),N)\n",
        "for grams in trigrams:\n",
        "  print(grams)"
      ],
      "metadata": {
        "colab": {
          "base_uri": "https://localhost:8080/"
        },
        "id": "Q5r_n_rBOxD5",
        "outputId": "a384daef-5b41-4025-b6fc-0a50ae269255"
      },
      "execution_count": null,
      "outputs": [
        {
          "output_type": "stream",
          "name": "stdout",
          "text": [
            "('The', 'dogs', 'chasing')\n",
            "('dogs', 'chasing', 'the')\n",
            "('chasing', 'the', 'cat')\n",
            "('the', 'cat', 'bark')\n"
          ]
        }
      ]
    },
    {
      "cell_type": "code",
      "source": [
        "#BiGram Model\n",
        "from nltk.util import ngrams\n",
        "input='The dogs chasing the cat bark'\n",
        "N=2\n",
        "bigram=ngrams(input.split(),N)\n",
        "for grams in bigram:\n",
        "  print(grams)"
      ],
      "metadata": {
        "colab": {
          "base_uri": "https://localhost:8080/"
        },
        "id": "SoTWorzDPbyl",
        "outputId": "db3e8b84-28d4-4b0d-e159-20707233555f"
      },
      "execution_count": null,
      "outputs": [
        {
          "output_type": "stream",
          "name": "stdout",
          "text": [
            "('The', 'dogs')\n",
            "('dogs', 'chasing')\n",
            "('chasing', 'the')\n",
            "('the', 'cat')\n",
            "('cat', 'bark')\n"
          ]
        }
      ]
    },
    {
      "cell_type": "code",
      "source": [
        "#SingleGram Model\n",
        "from nltk.util import ngrams\n",
        "input='The dogs chasing the cat bark'\n",
        "N=1\n",
        "unigram=ngrams(input.split(),N)\n",
        "for grams in unigram:\n",
        "  print(grams)"
      ],
      "metadata": {
        "colab": {
          "base_uri": "https://localhost:8080/"
        },
        "id": "9pjcy0mfP3O5",
        "outputId": "a8cac180-a1d0-44e4-b0e5-11c8e61dadbe"
      },
      "execution_count": null,
      "outputs": [
        {
          "output_type": "stream",
          "name": "stdout",
          "text": [
            "('The',)\n",
            "('dogs',)\n",
            "('chasing',)\n",
            "('the',)\n",
            "('cat',)\n",
            "('bark',)\n"
          ]
        }
      ]
    },
    {
      "cell_type": "code",
      "source": [
        ""
      ],
      "metadata": {
        "id": "MehlxwHoP-uY"
      },
      "execution_count": null,
      "outputs": []
    }
  ]
}